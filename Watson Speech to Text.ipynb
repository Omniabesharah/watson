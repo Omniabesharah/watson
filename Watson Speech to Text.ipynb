
0. Install and Import Dependencies
In [1]:
!pip install ibm_watson
Requirement already satisfied: ibm_watson in /Users/nicholasrenotte/opt/anaconda3/lib/python3.7/site-packages (4.5.0)
Requirement already satisfied: websocket-client==0.48.0 in /Users/nicholasrenotte/opt/anaconda3/lib/python3.7/site-packages (from ibm_watson) (0.48.0)
Requirement already satisfied: requests<3.0,>=2.0 in /Users/nicholasrenotte/opt/anaconda3/lib/python3.7/site-packages (from ibm_watson) (2.22.0)
Requirement already satisfied: ibm-cloud-sdk-core==1.5.1 in /Users/nicholasrenotte/opt/anaconda3/lib/python3.7/site-packages (from ibm_watson) (1.5.1)
Requirement already satisfied: python-dateutil>=2.5.3 in /Users/nicholasrenotte/opt/anaconda3/lib/python3.7/site-packages (from ibm_watson) (2.8.0)
Requirement already satisfied: six in /Users/nicholasrenotte/opt/anaconda3/lib/python3.7/site-packages (from websocket-client==0.48.0->ibm_watson) (1.12.0)
Requirement already satisfied: certifi>=2017.4.17 in /Users/nicholasrenotte/opt/anaconda3/lib/python3.7/site-packages (from requests<3.0,>=2.0->ibm_watson) (2019.9.11)
Requirement already satisfied: idna<2.9,>=2.5 in /Users/nicholasrenotte/opt/anaconda3/lib/python3.7/site-packages (from requests<3.0,>=2.0->ibm_watson) (2.8)
Requirement already satisfied: urllib3!=1.25.0,!=1.25.1,<1.26,>=1.21.1 in /Users/nicholasrenotte/opt/anaconda3/lib/python3.7/site-packages (from requests<3.0,>=2.0->ibm_watson) (1.24.2)
Requirement already satisfied: chardet<3.1.0,>=3.0.2 in /Users/nicholasrenotte/opt/anaconda3/lib/python3.7/site-packages (from requests<3.0,>=2.0->ibm_watson) (3.0.4)
Requirement already satisfied: PyJWT>=1.7.1 in /Users/nicholasrenotte/opt/anaconda3/lib/python3.7/site-packages (from ibm-cloud-sdk-core==1.5.1->ibm_watson) (1.7.1)
In [10]:
from ibm_watson import SpeechToTextV1
from ibm_watson.websocket import RecognizeCallback, AudioSource 
from ibm_cloud_sdk_core.authenticators import IAMAuthenticator
1. Setup STT Service
In [11]:
apikey = 'RUY00a-inxYauIuaCwCZQ64XTU_QSwDvP1hcAXhhwJxB'
url = 'https://api.au-syd.speech-to-text.watson.cloud.ibm.com/instances/737ef215-05e5-4910-9577-ac344a8b3bd7'
In [12]:
# Setup Service
authenticator = IAMAuthenticator(apikey)
stt = SpeechToTextV1(authenticator=authenticator)
stt.set_service_url(url)
2. Open Audio Source and Convert
In [16]:
# Perform conversion
with open('Robot.mp3', 'rb') as f:
    res = stt.recognize(audio=f, content_type='audio/mp3', model='en-US_NarrowbandModel', continuous=True).get_result()
In [17]:
res
Out[17]:
{'result_index': 0,
 'results': [{'final': True,
   'alternatives': [{'transcript': 'welcome to my rob', 'confidence': 0.8}]}]}
In [18]:
text = res['results'][0]['alternatives'][0]['transcript']
text
Out[18]:
'welcome to my rob '
In [19]:
confidence = res['results'][0]['alternatives'][0]['confidence']
confidence
Out[19]:
0.8
In [20]:
with open('output.txt', 'w') as out:
    out.writelines(text)
3. Change Language Models
In [21]:
# Perform conversion
with open('Robot.mp3', 'rb') as f:
    res = stt.recognize(audio=f, content_type='audio/mp3', model='en-AU_NarrowbandModel', continuous=True).get_result()
In [22]:
res
Out[22]:
{'result_index': 0,
 'results': [{'final': True,
   'alternatives': [{'transcript': 'welcome to my robot', 'confidence': 0.99}]}]}
In [ ]:
